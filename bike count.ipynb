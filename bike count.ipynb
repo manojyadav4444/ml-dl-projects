{
 "cells": [
  {
   "cell_type": "code",
   "execution_count": 15,
   "metadata": {},
   "outputs": [],
   "source": [
    "import cv2\n",
    "\n",
    "bikes_clsfr = cv2.CascadeClassifier('two_wheeler.xml')\n",
    "camera = cv2.VideoCapture('bikes.mp4')\n",
    "\n",
    "count = 0\n",
    "\n",
    "while(True):\n",
    "    \n",
    "    boolean, img = camera.read()\n",
    "    \n",
    "    height = img.shape[0]\n",
    "    width = img.shape[1]\n",
    "    \n",
    "    img[0:70, 0:width] = [0,0,255]\n",
    "    cv2.putText(img, 'Bike count:',(10,50),cv2.FONT_HERSHEY_SIMPLEX,1,(255,255,255),2)\n",
    "    \n",
    "    cv2.line(img,(0,height-150),(width,height-150),(0,255,255),2)\n",
    "    \n",
    "    blur = cv2.blur(img,(3,3))\n",
    "    gray = cv2.cvtColor(blur, cv2.COLOR_BGR2GRAY)\n",
    "    \n",
    "    bikes = bikes_clsfr.detectMultiScale(gray)\n",
    "    \n",
    "    for (x,y,w,h) in bikes:\n",
    "        \n",
    "        bikey = int(y+h/2)\n",
    "        liney = height-150\n",
    "        \n",
    "        if(bikey<liney+6 and bikey>liney-6):\n",
    "            count = count+1\n",
    "        \n",
    "        cv2.rectangle(img, (x,y), (x+w,y+h), (0,255,0), 2)\n",
    "        cv2.putText(img, str(count),(500,50),cv2.FONT_HERSHEY_SIMPLEX,1,(255,255,255),2)\n",
    "    \n",
    "    cv2.imshow('LIVE',img)\n",
    "    \n",
    "    key = cv2.waitKey(1)\n",
    "    \n",
    "    if key==27:\n",
    "        break\n",
    "        \n",
    "cv2.destroyAllWindows()\n",
    "camera.release()"
   ]
  },
  {
   "cell_type": "code",
   "execution_count": null,
   "metadata": {},
   "outputs": [],
   "source": []
  }
 ],
 "metadata": {
  "kernelspec": {
   "display_name": "Python 3",
   "language": "python",
   "name": "python3"
  },
  "language_info": {
   "codemirror_mode": {
    "name": "ipython",
    "version": 3
   },
   "file_extension": ".py",
   "mimetype": "text/x-python",
   "name": "python",
   "nbconvert_exporter": "python",
   "pygments_lexer": "ipython3",
   "version": "3.7.3"
  }
 },
 "nbformat": 4,
 "nbformat_minor": 2
}
